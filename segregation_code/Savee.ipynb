{
 "cells": [
  {
   "cell_type": "code",
   "execution_count": 1,
   "id": "a409c5ee",
   "metadata": {},
   "outputs": [],
   "source": [
    "import os\n",
    "import shutil"
   ]
  },
  {
   "cell_type": "code",
   "execution_count": 2,
   "id": "a226bd2a",
   "metadata": {},
   "outputs": [
    {
     "name": "stdout",
     "output_type": "stream",
     "text": [
      "Done\n"
     ]
    }
   ],
   "source": [
    "dataset_path=\"D:\\Projects\\MoodMate\\SAVEE\"\n",
    "destination_path=\"D:\\Projects\\MoodMate\\Segmented_Datasets\\SAVEE\"\n",
    "\n",
    "\n",
    "for audio_name in os.listdir(dataset_path):\n",
    "    audio_file_path=dataset_path + '\\\\' + audio_name\n",
    "\n",
    "    if '_a' in audio_name: \n",
    "        destination_audio_path=destination_path + \"\\\\\" + \"angry\"\n",
    "        shutil.copy2(audio_file_path,destination_audio_path)\n",
    "\n",
    "    if \"d\" in audio_name:\n",
    "        destination_audio_path=destination_path + \"\\\\\" + \"disgust\"\n",
    "        shutil.copy2(audio_file_path,destination_audio_path)\n",
    "\n",
    "    if 'f' in audio_name: \n",
    "        destination_audio_path=destination_path + \"\\\\\" + \"fear\"\n",
    "        shutil.copy2(audio_file_path,destination_audio_path)\n",
    "\n",
    "    if \"h\" in audio_name:\n",
    "        destination_audio_path=destination_path + \"\\\\\" + \"happy\"\n",
    "        shutil.copy2(audio_file_path,destination_audio_path)\n",
    "\n",
    "    if 'n' in audio_name: \n",
    "        destination_audio_path=destination_path + \"\\\\\" + \"neutral\"\n",
    "        shutil.copy2(audio_file_path,destination_audio_path)\n",
    "\n",
    "    if \"sa\" in audio_name:\n",
    "        destination_audio_path=destination_path + \"\\\\\" + \"sad\"\n",
    "        shutil.copy2(audio_file_path,destination_audio_path)\n",
    "\n",
    "    if \"su\" in audio_name:\n",
    "        destination_audio_path=destination_path + \"\\\\\" + \"surprise\"\n",
    "        shutil.copy2(audio_file_path,destination_audio_path)\n",
    "\n",
    "print(\"Done\")\n",
    "\n"
   ]
  },
  {
   "cell_type": "code",
   "execution_count": null,
   "id": "1038854b",
   "metadata": {},
   "outputs": [],
   "source": []
  }
 ],
 "metadata": {
  "kernelspec": {
   "display_name": "base",
   "language": "python",
   "name": "python3"
  },
  "language_info": {
   "codemirror_mode": {
    "name": "ipython",
    "version": 3
   },
   "file_extension": ".py",
   "mimetype": "text/x-python",
   "name": "python",
   "nbconvert_exporter": "python",
   "pygments_lexer": "ipython3",
   "version": "3.11.4"
  }
 },
 "nbformat": 4,
 "nbformat_minor": 5
}
