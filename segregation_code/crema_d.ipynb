{
 "cells": [
  {
   "cell_type": "code",
   "execution_count": 5,
   "id": "e0da49dc",
   "metadata": {},
   "outputs": [],
   "source": [
    "import os\n",
    "import shutil"
   ]
  },
  {
   "cell_type": "code",
   "execution_count": 14,
   "id": "7767b14b",
   "metadata": {},
   "outputs": [
    {
     "name": "stdout",
     "output_type": "stream",
     "text": [
      "Done\n"
     ]
    }
   ],
   "source": [
    "dataset_path=\"D:\\Projects\\MoodMate\\Crema_D\"\n",
    "destination_path=\"D:\\Projects\\MoodMate\\Segmented_Datasets\\CREMA_D\"\n",
    "\n",
    "for audio_name in os.listdir(dataset_path):\n",
    "    audio_file_path=dataset_path + '\\\\' + audio_name\n",
    "\n",
    "    if 'ANG' in audio_name: \n",
    "        destination_audio_path=destination_path + \"\\\\\" + \"angry\"\n",
    "        shutil.copy2(audio_file_path,destination_audio_path)\n",
    "\n",
    "    if \"DIS\" in audio_name:\n",
    "        destination_audio_path=destination_path + \"\\\\\" + \"disgust\"\n",
    "        shutil.copy2(audio_file_path,destination_audio_path)\n",
    "\n",
    "    if 'FEA' in audio_name: \n",
    "        destination_audio_path=destination_path + \"\\\\\" + \"fear\"\n",
    "        shutil.copy2(audio_file_path,destination_audio_path)\n",
    "\n",
    "    if \"HAP\" in audio_name:\n",
    "        destination_audio_path=destination_path + \"\\\\\" + \"happy\"\n",
    "        shutil.copy2(audio_file_path,destination_audio_path)\n",
    "\n",
    "    if 'NEU' in audio_name: \n",
    "        destination_audio_path=destination_path + \"\\\\\" + \"neutral\"\n",
    "        shutil.copy2(audio_file_path,destination_audio_path)\n",
    "\n",
    "    if \"SAD\" in audio_name:\n",
    "        destination_audio_path=destination_path + \"\\\\\" + \"sad\"\n",
    "        shutil.copy2(audio_file_path,destination_audio_path)\n",
    "\n",
    "print(\"Done\")\n",
    "\n",
    "    "
   ]
  },
  {
   "cell_type": "code",
   "execution_count": null,
   "id": "f19a844d",
   "metadata": {},
   "outputs": [],
   "source": []
  }
 ],
 "metadata": {
  "kernelspec": {
   "display_name": "base",
   "language": "python",
   "name": "python3"
  },
  "language_info": {
   "codemirror_mode": {
    "name": "ipython",
    "version": 3
   },
   "file_extension": ".py",
   "mimetype": "text/x-python",
   "name": "python",
   "nbconvert_exporter": "python",
   "pygments_lexer": "ipython3",
   "version": "3.11.4"
  }
 },
 "nbformat": 4,
 "nbformat_minor": 5
}
