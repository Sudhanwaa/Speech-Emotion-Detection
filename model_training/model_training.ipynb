{
 "cells": [
  {
   "cell_type": "code",
   "execution_count": 2,
   "id": "be538500",
   "metadata": {},
   "outputs": [],
   "source": [
    "import pandas as pd\n",
    "import numpy as np\n",
    "from sklearn.preprocessing import StandardScaler\n",
    "from sklearn.impute import SimpleImputer\n",
    "import joblib\n",
    "from sklearn.model_selection import train_test_split\n",
    "from sklearn.preprocessing import LabelBinarizer\n",
    "from tensorflow.keras.models import Sequential\n",
    "from tensorflow.keras.layers import GRU, Dense, Dropout\n",
    "from tensorflow.keras.callbacks import ModelCheckpoint\n",
    "\n"
   ]
  },
  {
   "cell_type": "code",
   "execution_count": 3,
   "id": "55c4b017",
   "metadata": {},
   "outputs": [
    {
     "name": "stdout",
     "output_type": "stream",
     "text": [
      "TensorFlow version: 2.19.0\n",
      "Keras module: <module 'tensorflow.keras' from 'd:\\\\Projects\\\\MoodMate\\\\paper_code\\\\paper_env\\\\Lib\\\\site-packages\\\\keras\\\\_tf_keras\\\\keras\\\\__init__.py'>\n"
     ]
    }
   ],
   "source": [
    "import tensorflow as tf\n",
    "print(\"TensorFlow version:\", tf.__version__)\n",
    "print(\"Keras module:\", tf.keras)"
   ]
  },
  {
   "cell_type": "code",
   "execution_count": 4,
   "id": "0a4041c2",
   "metadata": {},
   "outputs": [
    {
     "data": {
      "text/html": [
       "<div>\n",
       "<style scoped>\n",
       "    .dataframe tbody tr th:only-of-type {\n",
       "        vertical-align: middle;\n",
       "    }\n",
       "\n",
       "    .dataframe tbody tr th {\n",
       "        vertical-align: top;\n",
       "    }\n",
       "\n",
       "    .dataframe thead th {\n",
       "        text-align: right;\n",
       "    }\n",
       "</style>\n",
       "<table border=\"1\" class=\"dataframe\">\n",
       "  <thead>\n",
       "    <tr style=\"text-align: right;\">\n",
       "      <th></th>\n",
       "      <th>0</th>\n",
       "      <th>1</th>\n",
       "      <th>2</th>\n",
       "      <th>3</th>\n",
       "      <th>4</th>\n",
       "      <th>5</th>\n",
       "      <th>6</th>\n",
       "      <th>7</th>\n",
       "      <th>8</th>\n",
       "      <th>9</th>\n",
       "      <th>...</th>\n",
       "      <th>76</th>\n",
       "      <th>77</th>\n",
       "      <th>78</th>\n",
       "      <th>79</th>\n",
       "      <th>80</th>\n",
       "      <th>81</th>\n",
       "      <th>82</th>\n",
       "      <th>83</th>\n",
       "      <th>84</th>\n",
       "      <th>label</th>\n",
       "    </tr>\n",
       "  </thead>\n",
       "  <tbody>\n",
       "    <tr>\n",
       "      <th>0</th>\n",
       "      <td>-178.629257</td>\n",
       "      <td>51.506119</td>\n",
       "      <td>-41.428158</td>\n",
       "      <td>18.590761</td>\n",
       "      <td>-14.320748</td>\n",
       "      <td>-0.561634</td>\n",
       "      <td>-16.098753</td>\n",
       "      <td>-11.474614</td>\n",
       "      <td>-9.895323</td>\n",
       "      <td>0.881489</td>\n",
       "      <td>...</td>\n",
       "      <td>6.417930</td>\n",
       "      <td>6.499616</td>\n",
       "      <td>7.346619</td>\n",
       "      <td>8.597341</td>\n",
       "      <td>0.158534</td>\n",
       "      <td>0.114198</td>\n",
       "      <td>0.007965</td>\n",
       "      <td>0.029888</td>\n",
       "      <td>0.000000</td>\n",
       "      <td>angry</td>\n",
       "    </tr>\n",
       "    <tr>\n",
       "      <th>1</th>\n",
       "      <td>-354.181580</td>\n",
       "      <td>114.761452</td>\n",
       "      <td>29.720327</td>\n",
       "      <td>19.747877</td>\n",
       "      <td>-3.936052</td>\n",
       "      <td>3.929965</td>\n",
       "      <td>-4.114535</td>\n",
       "      <td>-10.306482</td>\n",
       "      <td>-2.094857</td>\n",
       "      <td>1.151795</td>\n",
       "      <td>...</td>\n",
       "      <td>3.098964</td>\n",
       "      <td>4.114218</td>\n",
       "      <td>5.604109</td>\n",
       "      <td>4.970121</td>\n",
       "      <td>0.069071</td>\n",
       "      <td>0.037858</td>\n",
       "      <td>0.000129</td>\n",
       "      <td>0.000689</td>\n",
       "      <td>55.434866</td>\n",
       "      <td>angry</td>\n",
       "    </tr>\n",
       "    <tr>\n",
       "      <th>2</th>\n",
       "      <td>-459.819641</td>\n",
       "      <td>92.469910</td>\n",
       "      <td>-25.202358</td>\n",
       "      <td>5.841247</td>\n",
       "      <td>-6.980287</td>\n",
       "      <td>-3.785758</td>\n",
       "      <td>-25.311193</td>\n",
       "      <td>-1.974278</td>\n",
       "      <td>-16.396502</td>\n",
       "      <td>-16.886845</td>\n",
       "      <td>...</td>\n",
       "      <td>12.345413</td>\n",
       "      <td>10.717521</td>\n",
       "      <td>12.245610</td>\n",
       "      <td>14.287747</td>\n",
       "      <td>0.090447</td>\n",
       "      <td>0.094145</td>\n",
       "      <td>0.000066</td>\n",
       "      <td>0.000215</td>\n",
       "      <td>49.316084</td>\n",
       "      <td>angry</td>\n",
       "    </tr>\n",
       "    <tr>\n",
       "      <th>3</th>\n",
       "      <td>-254.467255</td>\n",
       "      <td>57.603237</td>\n",
       "      <td>9.296393</td>\n",
       "      <td>8.734832</td>\n",
       "      <td>-3.518117</td>\n",
       "      <td>-1.730149</td>\n",
       "      <td>-2.974824</td>\n",
       "      <td>-9.274584</td>\n",
       "      <td>-3.085030</td>\n",
       "      <td>-13.884545</td>\n",
       "      <td>...</td>\n",
       "      <td>4.823880</td>\n",
       "      <td>6.712316</td>\n",
       "      <td>5.028618</td>\n",
       "      <td>5.914686</td>\n",
       "      <td>0.223901</td>\n",
       "      <td>0.207565</td>\n",
       "      <td>0.003188</td>\n",
       "      <td>0.012238</td>\n",
       "      <td>0.000000</td>\n",
       "      <td>angry</td>\n",
       "    </tr>\n",
       "    <tr>\n",
       "      <th>4</th>\n",
       "      <td>-299.528473</td>\n",
       "      <td>57.804699</td>\n",
       "      <td>6.727249</td>\n",
       "      <td>16.468393</td>\n",
       "      <td>0.942798</td>\n",
       "      <td>-6.469413</td>\n",
       "      <td>-2.439889</td>\n",
       "      <td>-3.310119</td>\n",
       "      <td>-6.644002</td>\n",
       "      <td>-9.503429</td>\n",
       "      <td>...</td>\n",
       "      <td>8.389625</td>\n",
       "      <td>6.659488</td>\n",
       "      <td>5.193701</td>\n",
       "      <td>4.733158</td>\n",
       "      <td>0.160334</td>\n",
       "      <td>0.139378</td>\n",
       "      <td>0.007396</td>\n",
       "      <td>0.038400</td>\n",
       "      <td>49.595356</td>\n",
       "      <td>angry</td>\n",
       "    </tr>\n",
       "  </tbody>\n",
       "</table>\n",
       "<p>5 rows × 86 columns</p>\n",
       "</div>"
      ],
      "text/plain": [
       "            0           1          2          3          4         5  \\\n",
       "0 -178.629257   51.506119 -41.428158  18.590761 -14.320748 -0.561634   \n",
       "1 -354.181580  114.761452  29.720327  19.747877  -3.936052  3.929965   \n",
       "2 -459.819641   92.469910 -25.202358   5.841247  -6.980287 -3.785758   \n",
       "3 -254.467255   57.603237   9.296393   8.734832  -3.518117 -1.730149   \n",
       "4 -299.528473   57.804699   6.727249  16.468393   0.942798 -6.469413   \n",
       "\n",
       "           6          7          8          9  ...         76         77  \\\n",
       "0 -16.098753 -11.474614  -9.895323   0.881489  ...   6.417930   6.499616   \n",
       "1  -4.114535 -10.306482  -2.094857   1.151795  ...   3.098964   4.114218   \n",
       "2 -25.311193  -1.974278 -16.396502 -16.886845  ...  12.345413  10.717521   \n",
       "3  -2.974824  -9.274584  -3.085030 -13.884545  ...   4.823880   6.712316   \n",
       "4  -2.439889  -3.310119  -6.644002  -9.503429  ...   8.389625   6.659488   \n",
       "\n",
       "          78         79        80        81        82        83         84  \\\n",
       "0   7.346619   8.597341  0.158534  0.114198  0.007965  0.029888   0.000000   \n",
       "1   5.604109   4.970121  0.069071  0.037858  0.000129  0.000689  55.434866   \n",
       "2  12.245610  14.287747  0.090447  0.094145  0.000066  0.000215  49.316084   \n",
       "3   5.028618   5.914686  0.223901  0.207565  0.003188  0.012238   0.000000   \n",
       "4   5.193701   4.733158  0.160334  0.139378  0.007396  0.038400  49.595356   \n",
       "\n",
       "   label  \n",
       "0  angry  \n",
       "1  angry  \n",
       "2  angry  \n",
       "3  angry  \n",
       "4  angry  \n",
       "\n",
       "[5 rows x 86 columns]"
      ]
     },
     "execution_count": 4,
     "metadata": {},
     "output_type": "execute_result"
    }
   ],
   "source": [
    "df=pd.read_csv(r\"D:\\Projects\\MoodMate\\paper_code\\augmentation_code\\final_extracted_features.csv\")\n",
    "df.head()"
   ]
  },
  {
   "cell_type": "code",
   "execution_count": 5,
   "id": "1414652a",
   "metadata": {},
   "outputs": [],
   "source": [
    "X=df.drop(columns=['label']).values\n",
    "y=df['label']"
   ]
  },
  {
   "cell_type": "code",
   "execution_count": 6,
   "id": "65950895",
   "metadata": {},
   "outputs": [],
   "source": [
    "mean_imputer=SimpleImputer(strategy='mean')\n",
    "X[np.isinf(X)]=np.nan\n",
    "X[:,84:85]=mean_imputer.fit_transform(X[:,84:85])"
   ]
  },
  {
   "cell_type": "code",
   "execution_count": 7,
   "id": "4d280028",
   "metadata": {},
   "outputs": [
    {
     "name": "stderr",
     "output_type": "stream",
     "text": [
      "d:\\Projects\\MoodMate\\paper_code\\paper_env\\Lib\\site-packages\\sklearn\\base.py:442: InconsistentVersionWarning: Trying to unpickle estimator StandardScaler from version 1.3.0 when using version 1.7.1. This might lead to breaking code or invalid results. Use at your own risk. For more info please refer to:\n",
      "https://scikit-learn.org/stable/model_persistence.html#security-maintainability-limitations\n",
      "  warnings.warn(\n",
      "d:\\Projects\\MoodMate\\paper_code\\paper_env\\Lib\\site-packages\\sklearn\\base.py:442: InconsistentVersionWarning: Trying to unpickle estimator LabelBinarizer from version 1.3.0 when using version 1.7.1. This might lead to breaking code or invalid results. Use at your own risk. For more info please refer to:\n",
      "https://scikit-learn.org/stable/model_persistence.html#security-maintainability-limitations\n",
      "  warnings.warn(\n"
     ]
    }
   ],
   "source": [
    "scaling_model=joblib.load(r'D:\\Projects\\MoodMate\\paper_code\\models\\scaler.pkl')\n",
    "label_encoding_model=joblib.load(r\"D:\\Projects\\MoodMate\\paper_code\\models\\label_encoder.pkl\")\n"
   ]
  },
  {
   "cell_type": "code",
   "execution_count": 8,
   "id": "93d08908",
   "metadata": {},
   "outputs": [],
   "source": [
    "X_scaled=scaling_model.transform(X)\n",
    "y_encoded=label_encoding_model.transform(y)"
   ]
  },
  {
   "cell_type": "code",
   "execution_count": 9,
   "id": "cb1545bb",
   "metadata": {},
   "outputs": [],
   "source": [
    "X_reshaped = X_scaled.reshape((X_scaled.shape[0], 5, 17))\n",
    "X_train, X_test, y_train, y_test = train_test_split(X_reshaped, y_encoded, test_size=0.2, random_state=42)"
   ]
  },
  {
   "cell_type": "code",
   "execution_count": 10,
   "id": "79e56ea7",
   "metadata": {},
   "outputs": [],
   "source": [
    "y_train_class = np.argmax(y_train, axis=1)  # shape: (39600,)\n",
    "y_test_class = np.argmax(y_test, axis=1)"
   ]
  },
  {
   "cell_type": "code",
   "execution_count": 11,
   "id": "428bf7f0",
   "metadata": {},
   "outputs": [
    {
     "data": {
      "text/plain": [
       "5"
      ]
     },
     "execution_count": 11,
     "metadata": {},
     "output_type": "execute_result"
    }
   ],
   "source": [
    "label_encoding_model.classes_[0]\n",
    "np.where(label_encoding_model.classes_ == 'sad')[0][0]\n",
    "inds=np.flatnonzero(label_encoding_model.classes_ == 'sad')\n",
    "if inds.size == 0:\n",
    "    raise ValueError(f\"'{'sad'}' not found in encoder classes: {label_encoding_model.classes_}\")\n",
    "int(inds[0])"
   ]
  },
  {
   "cell_type": "code",
   "execution_count": 12,
   "id": "18dd4bbd",
   "metadata": {},
   "outputs": [
    {
     "data": {
      "text/plain": [
       "array([[1, 0, 0, 0, 0, 0],\n",
       "       [0, 0, 1, 0, 0, 0],\n",
       "       [0, 1, 0, 0, 0, 0],\n",
       "       ...,\n",
       "       [0, 0, 0, 0, 1, 0],\n",
       "       [1, 0, 0, 0, 0, 0],\n",
       "       [0, 1, 0, 0, 0, 0]])"
      ]
     },
     "execution_count": 12,
     "metadata": {},
     "output_type": "execute_result"
    }
   ],
   "source": [
    "y_train"
   ]
  },
  {
   "cell_type": "code",
   "execution_count": 13,
   "id": "07e15ce8",
   "metadata": {},
   "outputs": [
    {
     "data": {
      "text/plain": [
       "array([1, 0, 0, ..., 0, 1, 0])"
      ]
     },
     "execution_count": 13,
     "metadata": {},
     "output_type": "execute_result"
    }
   ],
   "source": [
    "y_train_class = np.argmax(y_train, axis=1)\n",
    "y_train_bin = (y_train_class == 0).astype(int)\n",
    "y_train_bin"
   ]
  },
  {
   "cell_type": "code",
   "execution_count": 14,
   "id": "c42eb5da",
   "metadata": {},
   "outputs": [
    {
     "name": "stdout",
     "output_type": "stream",
     "text": [
      "\n",
      "Training model for 'angry'...\n",
      "Class index: 0\n",
      "First label (one-hot): [1 0 0 0 0 0]\n",
      "First label (class): 0\n",
      "First label (binary for this emotion): 1\n"
     ]
    }
   ],
   "source": [
    "emotion_labels = ['angry', 'disgust', 'fear', 'happy', 'neutral', 'sad']\n",
    "models = {}  # to store trained models\n",
    "\n",
    "# Convert one-hot encoded y_train/y_test to class labels\n",
    "y_train_class = np.argmax(y_train, axis=1)\n",
    "y_test_class = np.argmax(y_test, axis=1)\n",
    "\n",
    "for i, emotion in enumerate(emotion_labels):\n",
    "    print(f\"\\nTraining model for '{emotion}'...\")\n",
    "    print(f\"Class index: {i}\")\n",
    "    \n",
    "    # Convert y to binary: 1 if sample belongs to class `i`, else 0\n",
    "    y_train_bin = (y_train_class == i).astype(int)\n",
    "    y_test_bin = (y_test_class == i).astype(int)\n",
    "\n",
    "    print(\"First label (one-hot):\", y_train[0])\n",
    "    print(\"First label (class):\", y_train_class[0])\n",
    "    print(\"First label (binary for this emotion):\", y_train_bin[0])\n",
    "\n",
    "    # Now you can pass X_train and y_train_bin to the model for this emotion\n",
    "\n",
    "    break  # remove break to loop over all emotions\n"
   ]
  },
  {
   "cell_type": "code",
   "execution_count": null,
   "id": "a3b6cd68",
   "metadata": {},
   "outputs": [],
   "source": []
  },
  {
   "cell_type": "code",
   "execution_count": null,
   "id": "5f85716a",
   "metadata": {},
   "outputs": [],
   "source": []
  }
 ],
 "metadata": {
  "kernelspec": {
   "display_name": "paper_env",
   "language": "python",
   "name": "python3"
  },
  "language_info": {
   "codemirror_mode": {
    "name": "ipython",
    "version": 3
   },
   "file_extension": ".py",
   "mimetype": "text/x-python",
   "name": "python",
   "nbconvert_exporter": "python",
   "pygments_lexer": "ipython3",
   "version": "3.11.5"
  }
 },
 "nbformat": 4,
 "nbformat_minor": 5
}
