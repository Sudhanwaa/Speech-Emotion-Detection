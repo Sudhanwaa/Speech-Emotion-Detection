{
 "cells": [
  {
   "cell_type": "code",
   "execution_count": 1,
   "id": "0bc7831e",
   "metadata": {},
   "outputs": [],
   "source": [
    "import pandas as pd\n",
    "import numpy as np\n",
    "from sklearn.preprocessing import StandardScaler\n",
    "from sklearn.impute import SimpleImputer\n",
    "import joblib\n",
    "from sklearn.preprocessing import LabelBinarizer"
   ]
  },
  {
   "cell_type": "code",
   "execution_count": 2,
   "id": "60275077",
   "metadata": {},
   "outputs": [],
   "source": [
    "df=pd.read_csv(r\"D:\\Projects\\MoodMate\\paper_code\\augmentation_code\\final_extracted_features.csv\")\n"
   ]
  },
  {
   "cell_type": "code",
   "execution_count": 3,
   "id": "273b39af",
   "metadata": {},
   "outputs": [
    {
     "data": {
      "text/plain": [
       "array([-1.78629257e+02,  5.15061188e+01, -4.14281578e+01,  1.85907612e+01,\n",
       "       -1.43207483e+01, -5.61633766e-01, -1.60987530e+01, -1.14746141e+01,\n",
       "       -9.89532280e+00,  8.81489277e-01, -9.73490334e+00, -5.68929076e-01,\n",
       "       -5.86284351e+00,  1.37044001e+00, -8.85469913e+00, -2.44115663e+00,\n",
       "       -6.16204119e+00, -6.92332840e+00, -4.78198338e+00, -7.92632520e-01,\n",
       "       -6.86633539e+00,  1.78997302e+00, -3.03275049e-01,  1.59445238e+00,\n",
       "        1.08916409e-01, -7.53241181e-01,  1.46342731e+00,  6.47321844e+00,\n",
       "        1.54715329e-01,  1.30319846e+00,  1.34078756e-01,  2.58629823e+00,\n",
       "        3.31039953e+00,  3.68272376e+00,  2.29556513e+00, -7.50226229e-02,\n",
       "       -1.25786560e-02,  3.55100489e+00,  5.94835840e-02,  3.15451217e+00,\n",
       "        1.40709824e+02,  4.96132889e+01,  4.33002052e+01,  2.90820827e+01,\n",
       "        1.97209206e+01,  2.04533653e+01,  1.58396015e+01,  1.43684006e+01,\n",
       "        1.81775303e+01,  1.56839190e+01,  1.16920309e+01,  1.12468367e+01,\n",
       "        1.28243351e+01,  8.09420395e+00,  1.15899677e+01,  8.53285694e+00,\n",
       "        9.55226231e+00,  9.83200741e+00,  9.12030125e+00,  6.31848812e+00,\n",
       "        9.80433464e+00,  9.53784084e+00,  1.32159948e+01,  1.09665747e+01,\n",
       "        1.01582098e+01,  9.60060215e+00,  1.18035479e+01,  1.37150011e+01,\n",
       "        1.11499138e+01,  7.57633114e+00,  7.64559603e+00,  7.28482294e+00,\n",
       "        9.24215317e+00,  8.27364540e+00,  1.05842552e+01,  7.94175529e+00,\n",
       "        6.41792965e+00,  6.49961567e+00,  7.34661865e+00,  8.59734058e+00,\n",
       "        1.58534163e-01,  1.14198148e-01,  7.96522340e-03,  2.98884727e-02,\n",
       "        0.00000000e+00])"
      ]
     },
     "execution_count": 3,
     "metadata": {},
     "output_type": "execute_result"
    }
   ],
   "source": [
    "X=df.drop(columns=['label']).values\n",
    "y=df['label'].values\n",
    "X[0]"
   ]
  },
  {
   "cell_type": "code",
   "execution_count": 4,
   "id": "a89835cb",
   "metadata": {},
   "outputs": [
    {
     "name": "stdout",
     "output_type": "stream",
     "text": [
      "Any NaN? False\n",
      "Any Inf? 47\n"
     ]
    }
   ],
   "source": [
    "print(\"Any NaN?\", np.isnan(X).any())\n",
    "print(\"Any Inf?\", np.isinf(X).sum())"
   ]
  },
  {
   "cell_type": "code",
   "execution_count": 5,
   "id": "2cf7a545",
   "metadata": {},
   "outputs": [],
   "source": [
    "mean_imputer=SimpleImputer(strategy='mean')\n",
    "X[np.isinf(X)]=np.nan\n",
    "X[:,84:85]=mean_imputer.fit_transform(X[:,84:85])"
   ]
  },
  {
   "cell_type": "code",
   "execution_count": 6,
   "id": "959edd72",
   "metadata": {},
   "outputs": [
    {
     "name": "stdout",
     "output_type": "stream",
     "text": [
      "Any NaN? False\n",
      "Any Inf? 0\n",
      "[]\n",
      "38.82105935782781\n"
     ]
    }
   ],
   "source": [
    "print(\"Any NaN?\", np.isnan(X).any())\n",
    "print(\"Any Inf?\", np.isinf(X).sum())\n",
    "\n",
    "inf_indices = np.argwhere(np.isnan(X))\n",
    "# print(\"Positions of Inf values (row, column):\")\n",
    "print(inf_indices)\n",
    "\n",
    "print(X[88][84])"
   ]
  },
  {
   "cell_type": "code",
   "execution_count": 7,
   "id": "b96f1381",
   "metadata": {},
   "outputs": [
    {
     "data": {
      "text/plain": [
       "['D:\\\\Projects\\\\MoodMate\\\\paper_code\\\\models\\\\scaler.pkl']"
      ]
     },
     "execution_count": 7,
     "metadata": {},
     "output_type": "execute_result"
    }
   ],
   "source": [
    "scaler=StandardScaler()\n",
    "X_scaled=scaler.fit_transform(X)\n",
    "joblib.dump(scaler, r'D:\\Projects\\MoodMate\\paper_code\\models\\scaler.pkl')"
   ]
  },
  {
   "cell_type": "code",
   "execution_count": 8,
   "id": "2bba0346",
   "metadata": {},
   "outputs": [
    {
     "data": {
      "text/plain": [
       "['D:\\\\Projects\\\\MoodMate\\\\paper_code\\\\models\\\\label_encoder.pkl']"
      ]
     },
     "execution_count": 8,
     "metadata": {},
     "output_type": "execute_result"
    }
   ],
   "source": [
    "y=np.array(y)\n",
    "encoder = LabelBinarizer()\n",
    "y_encoded = encoder.fit_transform(y)\n",
    "joblib.dump(encoder, r'D:\\Projects\\MoodMate\\paper_code\\models\\label_encoder.pkl')\n",
    "\n"
   ]
  },
  {
   "cell_type": "code",
   "execution_count": 13,
   "id": "aba9f1ed",
   "metadata": {},
   "outputs": [
    {
     "data": {
      "text/plain": [
       "array([ 0.65226044, -1.47707257, -2.63995119, -0.71705159, -0.73701011,\n",
       "       -0.63358763, -0.49005975, -1.37058042,  0.05743632, -0.45725901,\n",
       "       -0.37728398, -0.43437826, -0.06648696,  0.73607926, -1.0847191 ,\n",
       "        0.43318031, -1.05534251, -0.86026255, -1.02401177,  0.77575899,\n",
       "       -2.06301535,  1.05121268, -0.61223381,  0.81519112, -0.51170525,\n",
       "        0.16958224, -0.07290894,  2.13155068, -0.4959244 ,  0.01159049,\n",
       "       -0.32618164,  0.39367336,  1.12179414,  0.71501814,  0.97433545,\n",
       "       -0.52810652,  0.42754026,  1.07618995,  0.61641993,  1.25034646,\n",
       "        1.42072012,  1.41503182,  1.38751046,  1.67894194,  0.17581059,\n",
       "        1.36437747,  0.45805398,  1.22842175,  2.13885352,  2.46728702,\n",
       "        1.15741558,  1.54850972,  2.22119276,  0.41336251,  1.83599607,\n",
       "        0.62398588,  1.00741189,  1.12639661,  0.84327913, -0.1426176 ,\n",
       "        1.04515746,  0.92979524,  2.10609072,  1.48566915,  1.2315313 ,\n",
       "        1.08318359,  1.95474421,  2.78564643,  1.8525684 ,  0.49017632,\n",
       "        0.56431563,  0.44087104,  1.41021726,  1.0905188 ,  2.44206508,\n",
       "        1.21958187,  0.51027179,  0.58627006,  1.19010913,  1.98269739,\n",
       "        0.92845911,  1.06149233,  3.29834076,  3.375264  , -2.22218096])"
      ]
     },
     "execution_count": 13,
     "metadata": {},
     "output_type": "execute_result"
    }
   ],
   "source": [
    "X_scaled[0]"
   ]
  },
  {
   "cell_type": "code",
   "execution_count": 12,
   "id": "78ba8b9a",
   "metadata": {},
   "outputs": [
    {
     "data": {
      "text/plain": [
       "(49500, 85)"
      ]
     },
     "execution_count": 12,
     "metadata": {},
     "output_type": "execute_result"
    }
   ],
   "source": [
    "X_scaled.shape"
   ]
  },
  {
   "cell_type": "code",
   "execution_count": null,
   "id": "dd306f9a",
   "metadata": {},
   "outputs": [],
   "source": []
  }
 ],
 "metadata": {
  "kernelspec": {
   "display_name": "base",
   "language": "python",
   "name": "python3"
  },
  "language_info": {
   "codemirror_mode": {
    "name": "ipython",
    "version": 3
   },
   "file_extension": ".py",
   "mimetype": "text/x-python",
   "name": "python",
   "nbconvert_exporter": "python",
   "pygments_lexer": "ipython3",
   "version": "3.11.4"
  }
 },
 "nbformat": 4,
 "nbformat_minor": 5
}
