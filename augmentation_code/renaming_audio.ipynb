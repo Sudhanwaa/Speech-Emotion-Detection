{
 "cells": [
  {
   "cell_type": "code",
   "execution_count": 13,
   "id": "f660c5ae",
   "metadata": {},
   "outputs": [],
   "source": [
    "import os"
   ]
  },
  {
   "cell_type": "code",
   "execution_count": 33,
   "id": "b94b049d",
   "metadata": {},
   "outputs": [],
   "source": [
    "dataset_path=\"D:\\Projects\\MoodMate\\speech_dataset\"\n",
    "for emotion in os.listdir(dataset_path):\n",
    "    emotion_folder=os.path.join(dataset_path,emotion)\n",
    "    audio_count=1\n",
    "    \n",
    "    for audio in os.listdir(emotion_folder):\n",
    "        old_audio_path=os.path.join(emotion_folder,audio)\n",
    "        new_audio_name= f'{emotion}_{audio_count}.wav'\n",
    "        new_audio_path=os.path.join(emotion_folder,new_audio_name)\n",
    "        os.rename(old_audio_path, new_audio_path)\n",
    "        audio_count+=1\n",
    "\n",
    "\n"
   ]
  },
  {
   "cell_type": "code",
   "execution_count": null,
   "id": "311d6d18",
   "metadata": {},
   "outputs": [],
   "source": []
  }
 ],
 "metadata": {
  "kernelspec": {
   "display_name": "base",
   "language": "python",
   "name": "python3"
  },
  "language_info": {
   "codemirror_mode": {
    "name": "ipython",
    "version": 3
   },
   "file_extension": ".py",
   "mimetype": "text/x-python",
   "name": "python",
   "nbconvert_exporter": "python",
   "pygments_lexer": "ipython3",
   "version": "3.11.4"
  }
 },
 "nbformat": 4,
 "nbformat_minor": 5
}
