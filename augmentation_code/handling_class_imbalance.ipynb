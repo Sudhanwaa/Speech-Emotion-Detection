{
 "cells": [
  {
   "cell_type": "code",
   "execution_count": 40,
   "id": "39d85188",
   "metadata": {},
   "outputs": [],
   "source": [
    "import os\n",
    "import librosa\n",
    "import soundfile as sf\n",
    "import random"
   ]
  },
  {
   "cell_type": "code",
   "execution_count": 41,
   "id": "efef97ef",
   "metadata": {},
   "outputs": [
    {
     "data": {
      "text/plain": [
       "1650"
      ]
     },
     "execution_count": 41,
     "metadata": {},
     "output_type": "execute_result"
    }
   ],
   "source": [
    "dataset_path=\"D:\\Projects\\MoodMate\\speech_dataset\"\n",
    "max_data_count=-1\n",
    "\n",
    "for emotion in os.listdir(dataset_path):\n",
    "    max_data_count=max(len(os.listdir(dataset_path + '\\\\'+ emotion)),max_data_count)\n",
    "\n",
    "max_data_count"
   ]
  },
  {
   "cell_type": "code",
   "execution_count": 42,
   "id": "c2fd7d44",
   "metadata": {},
   "outputs": [
    {
     "data": {
      "text/plain": [
       "['disgust', 'fear', 'happy', 'neutral', 'sad']"
      ]
     },
     "execution_count": 42,
     "metadata": {},
     "output_type": "execute_result"
    }
   ],
   "source": [
    "emotions_to_be_augmented=[]\n",
    "for emotion in os.listdir(dataset_path):\n",
    "    if len(os.listdir(dataset_path + '\\\\'+ emotion))<max_data_count:\n",
    "        emotions_to_be_augmented.append(emotion)\n",
    "\n",
    "emotions_to_be_augmented"
   ]
  },
  {
   "cell_type": "code",
   "execution_count": 47,
   "id": "3be750a3",
   "metadata": {},
   "outputs": [],
   "source": [
    "def volume_down(signal):\n",
    "    return signal * round(random.uniform(0.5, 0.8),1)"
   ]
  },
  {
   "cell_type": "code",
   "execution_count": 50,
   "id": "ae8649ae",
   "metadata": {},
   "outputs": [
    {
     "name": "stdout",
     "output_type": "stream",
     "text": [
      "disgust\n",
      "fear\n",
      "happy\n",
      "neutral\n",
      "sad\n",
      "Files Balanced\n"
     ]
    }
   ],
   "source": [
    "for emotion in emotions_to_be_augmented:\n",
    "    curr_data_count=len(os.listdir(os.path.join(dataset_path,emotion)))\n",
    "    items_to_be_augmented=max_data_count -curr_data_count\n",
    "    renaming_number=curr_data_count+1\n",
    "    print(emotion)\n",
    "    for audio,item,file_number in zip(os.listdir(os.path.join(dataset_path,emotion)),range(items_to_be_augmented,0,-1),range(renaming_number,max_data_count+1)):\n",
    "        audio_file=os.path.join(dataset_path,emotion,audio)\n",
    "        signal,sr=librosa.load(audio_file)\n",
    "        augmented_signal=volume_down(signal)\n",
    "        new_file_name=emotion + \"_\" + str(file_number)\n",
    "        sf.write(os.path.join(dataset_path,emotion,new_file_name)+ '.wav',augmented_signal,sr)\n",
    "print(\"Files Balanced\")\n",
    "\n",
    "        \n"
   ]
  },
  {
   "cell_type": "code",
   "execution_count": null,
   "id": "799f8ff5",
   "metadata": {},
   "outputs": [],
   "source": []
  }
 ],
 "metadata": {
  "kernelspec": {
   "display_name": "base",
   "language": "python",
   "name": "python3"
  },
  "language_info": {
   "codemirror_mode": {
    "name": "ipython",
    "version": 3
   },
   "file_extension": ".py",
   "mimetype": "text/x-python",
   "name": "python",
   "nbconvert_exporter": "python",
   "pygments_lexer": "ipython3",
   "version": "3.11.4"
  }
 },
 "nbformat": 4,
 "nbformat_minor": 5
}
