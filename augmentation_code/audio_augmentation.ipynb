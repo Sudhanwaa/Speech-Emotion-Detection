{
 "cells": [
  {
   "cell_type": "code",
   "execution_count": 8,
   "id": "13c18f3e",
   "metadata": {},
   "outputs": [],
   "source": [
    "import os\n",
    "import librosa\n",
    "import soundfile as sf\n",
    "import numpy as np\n",
    "import pandas as pd\n",
    "import random"
   ]
  },
  {
   "cell_type": "code",
   "execution_count": 9,
   "id": "c0bf3e64",
   "metadata": {},
   "outputs": [],
   "source": [
    "def time_shift(signal, sr, shift_ms=500):\n",
    "    shift_samples = int(shift_ms * sr / 1000)\n",
    "    direction = random.choice([-1, 1])\n",
    "    shifted_signal = np.roll(signal, direction * shift_samples)\n",
    "    if direction == 1:\n",
    "        shifted_signal[:shift_samples] = 0\n",
    "    else:\n",
    "        shifted_signal[shift_samples:] = 0\n",
    "\n",
    "    shifted_signal=shifted_signal/np.max(np.abs(shifted_signal))\n",
    "    return shifted_signal\n",
    "\n",
    "def pitch_shift(signal, sr, n_steps=2):\n",
    "    # Remove NaNs or infs if any\n",
    "    signal = np.nan_to_num(signal)\n",
    "\n",
    "    # Normalize safely\n",
    "    max_val = np.max(np.abs(signal))\n",
    "    if max_val > 0:\n",
    "        signal = signal / max_val\n",
    "\n",
    "    # Apply pitch shift\n",
    "    shifted_signal = librosa.effects.pitch_shift(y=signal, sr=sr, n_steps=n_steps)\n",
    "\n",
    "    # Final normalization\n",
    "    max_val = np.max(np.abs(shifted_signal))\n",
    "    if max_val > 0:\n",
    "        shifted_signal = shifted_signal / max_val\n",
    "\n",
    "    return shifted_signal\n",
    "\n",
    "\n",
    "def white_noiser(signal,noise_factor=random.uniform(0.01, 0.1)): #0.3\n",
    "    noise = np.random.normal(0,signal.std(),signal.size)\n",
    "    augmented_signal = signal + noise * noise_factor\n",
    "    augmented_signal=augmented_signal/np.max(np.abs(augmented_signal))\n",
    "    return augmented_signal\n",
    "\n",
    "def random_gain(signal,min_gain=0.15,max_gain=1.7):\n",
    "    gain_factor = random.uniform(min_gain,max_gain)\n",
    "    signal=signal*gain_factor\n",
    "    final_signal = signal / np.max(np.abs(signal)) \n",
    "    return final_signal\n",
    "\n",
    "\n",
    "def apply_time_stretch(signal, target_length=None):\n",
    "    rate=random.uniform(0.85, 1.15)\n",
    "    stretched_audio = librosa.effects.time_stretch(signal,rate=rate)\n",
    "\n",
    "    if target_length is None:\n",
    "            target_length = len(signal)\n",
    "\n",
    "    if len(stretched_audio) > target_length:\n",
    "        stretched_audio = stretched_audio[:target_length]\n",
    "    else:\n",
    "        stretched_audio = np.pad(stretched_audio, (0, target_length - len(stretched_audio)))\n",
    "    \n",
    "    stretched_audio = stretched_audio / np.max(np.abs(stretched_audio))\n",
    "    return stretched_audio\n",
    "\n"
   ]
  },
  {
   "cell_type": "markdown",
   "id": "3e7d0537",
   "metadata": {},
   "source": [
    "##### AUGMENTATION TECHNIQUES\n",
    "###### white_noiser(pitch_shift(A))\n",
    "###### random_gain(apply_time_stretch(A))\n",
    "###### pitch_shift(random_gain(A))\n",
    "###### apply_time_stretch(pitch_shift(A))"
   ]
  },
  {
   "cell_type": "code",
   "execution_count": 10,
   "id": "9a409cda",
   "metadata": {},
   "outputs": [
    {
     "name": "stderr",
     "output_type": "stream",
     "text": [
      "C:\\Users\\sudha\\AppData\\Local\\Temp\\ipykernel_8444\\883601570.py:36: RuntimeWarning: invalid value encountered in divide\n",
      "  augmented_signal=augmented_signal/np.max(np.abs(augmented_signal))\n",
      "C:\\Users\\sudha\\AppData\\Local\\Temp\\ipykernel_8444\\883601570.py:42: RuntimeWarning: invalid value encountered in divide\n",
      "  final_signal = signal / np.max(np.abs(signal))\n",
      "C:\\Users\\sudha\\AppData\\Local\\Temp\\ipykernel_8444\\883601570.py:58: RuntimeWarning: invalid value encountered in divide\n",
      "  stretched_audio = stretched_audio / np.max(np.abs(stretched_audio))\n"
     ]
    },
    {
     "name": "stdout",
     "output_type": "stream",
     "text": [
      "DATA AUGMENTATION COMPLETED\n"
     ]
    }
   ],
   "source": [
    "dataset_path=r'D:\\Projects\\MoodMate\\augmented_dataset'\n",
    "\n",
    "for emotion in os.listdir(dataset_path):\n",
    "    if emotion==\"sad\":\n",
    "        for audio in os.listdir(os.path.join(dataset_path,emotion)):\n",
    "            data_count=len(os.listdir(os.path.join(dataset_path,emotion))) +1\n",
    "            signal,sr= librosa.load(os.path.join(dataset_path,emotion,audio))\n",
    "            \n",
    "            augmented_signal_1=white_noiser(pitch_shift(signal,sr))\n",
    "            sf.write(os.path.join(dataset_path,emotion,emotion) + \"_\"+ str(data_count) + '.wav',augmented_signal_1,sr)\n",
    "            data_count+=1\n",
    "\n",
    "            augmented_signal_2=random_gain(pitch_shift(signal,sr))\n",
    "            sf.write(os.path.join(dataset_path,emotion,emotion) + \"_\"+ str(data_count) + '.wav',augmented_signal_2,sr)\n",
    "            data_count+=1\n",
    "\n",
    "            augmented_signal_3=pitch_shift(random_gain(signal),sr)\n",
    "            sf.write(os.path.join(dataset_path,emotion,emotion) + \"_\"+ str(data_count) + '.wav',augmented_signal_3,sr)\n",
    "            data_count+=1\n",
    "\n",
    "            augmented_signal_4=apply_time_stretch(pitch_shift(signal,sr))\n",
    "            sf.write(os.path.join(dataset_path,emotion,emotion) + \"_\"+ str(data_count) + '.wav',augmented_signal_4,sr)\n",
    "            data_count+=1\n",
    "        \n",
    "print(\"DATA AUGMENTATION COMPLETED\")\n",
    "\n",
    "        "
   ]
  },
  {
   "cell_type": "code",
   "execution_count": null,
   "id": "d86ae02b",
   "metadata": {},
   "outputs": [],
   "source": []
  }
 ],
 "metadata": {
  "kernelspec": {
   "display_name": "base",
   "language": "python",
   "name": "python3"
  },
  "language_info": {
   "codemirror_mode": {
    "name": "ipython",
    "version": 3
   },
   "file_extension": ".py",
   "mimetype": "text/x-python",
   "name": "python",
   "nbconvert_exporter": "python",
   "pygments_lexer": "ipython3",
   "version": "3.11.4"
  }
 },
 "nbformat": 4,
 "nbformat_minor": 5
}
